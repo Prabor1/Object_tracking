{
 "cells": [
  {
   "cell_type": "code",
   "execution_count": 1,
   "metadata": {},
   "outputs": [],
   "source": [
    "# Import Libraries\n",
    "import cv2\n",
    "import numpy as np"
   ]
  },
  {
   "cell_type": "code",
   "execution_count": 2,
   "metadata": {},
   "outputs": [],
   "source": [
    "# Video Capture\n",
    "cap = cv2.VideoCapture('Video/chaplin.mp4')"
   ]
  },
  {
   "cell_type": "code",
   "execution_count": 3,
   "metadata": {},
   "outputs": [],
   "source": [
    "# Read the capture and get the first frame\n",
    "ret, first_frame = cap.read()"
   ]
  },
  {
   "cell_type": "code",
   "execution_count": 4,
   "metadata": {},
   "outputs": [],
   "source": [
    "# Convert frame to Grayscale\n",
    "prev_gray = cv2.cvtColor(first_frame, cv2.COLOR_BGR2GRAY)"
   ]
  },
  {
   "cell_type": "code",
   "execution_count": 5,
   "metadata": {},
   "outputs": [],
   "source": [
    "# Create an image with the same dimensions as the frame for later drawing purposes\n",
    "mask = np.zeros_like(first_frame)"
   ]
  },
  {
   "cell_type": "code",
   "execution_count": 6,
   "metadata": {},
   "outputs": [],
   "source": [
    "# Saturation to maximum\n",
    "mask[...,1] = 255"
   ]
  },
  {
   "cell_type": "code",
   "execution_count": 7,
   "metadata": {},
   "outputs": [],
   "source": [
    "# While loop\n",
    "while(cap.isOpened()):\n",
    "    \n",
    "    # Read the capture and get the first frame\n",
    "    ret, frame = cap.read()\n",
    "    \n",
    "    # Open new window and display the input frame\n",
    "    cv2.imshow('input', frame)\n",
    "    \n",
    "    # Convert all frame to Grayscale (previously we did only the first frame)\n",
    "    gray = cv2.cvtColor(frame, cv2.COLOR_BGR2GRAY)\n",
    "    \n",
    "    # Calculate dense optical flow by Farneback\n",
    "    flow = cv2.calcOpticalFlowFarneback(prev_gray, gray, None,\n",
    "                                       0.5, 3, 15,\n",
    "                                       3, 5, 1.2, 0)\n",
    "    \n",
    "    # Compute Magnitude and Angle\n",
    "    magn, angle = cv2.cartToPolar(flow[...,0], flow[...,1])\n",
    "    \n",
    "    # Set image hue depanding on the optical flow direction\n",
    "    mask[...,0] = angle*180/np.pi/2\n",
    "        \n",
    "    # Normalize the magnitude\n",
    "    mask[...,2] =cv2.normalize(magn, None, 0, 255, cv2.NORM_MINMAX)\n",
    "    \n",
    "    # Convert HSV to RGB\n",
    "    rgb = cv2.cvtColor(mask, cv2.COLOR_HSV2RGB)\n",
    "    \n",
    "    # Open new window and display the output\n",
    "    cv2.imshow('Dense Optical Flow', rgb)\n",
    "    \n",
    "    # Update previous frame\n",
    "    prev_gray = gray\n",
    "    \n",
    "    # Close window\n",
    "    if cv2.waitKey(300) & 0xFF == ord('q'):\n",
    "        break\n",
    "    \n",
    "# Release and Destroy\n",
    "cap.release()\n",
    "cv2.destroyAllWindows()"
   ]
  }
 ],
 "metadata": {
  "kernelspec": {
   "display_name": "Python 3",
   "language": "python",
   "name": "python3"
  },
  "language_info": {
   "codemirror_mode": {
    "name": "ipython",
    "version": 3
   },
   "file_extension": ".py",
   "mimetype": "text/x-python",
   "name": "python",
   "nbconvert_exporter": "python",
   "pygments_lexer": "ipython3",
   "version": "3.7.4"
  }
 },
 "nbformat": 4,
 "nbformat_minor": 2
}
