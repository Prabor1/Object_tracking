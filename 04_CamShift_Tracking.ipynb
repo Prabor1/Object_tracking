{
 "cells": [
  {
   "cell_type": "code",
   "execution_count": 1,
   "metadata": {},
   "outputs": [],
   "source": [
    "# Import Libraries\n",
    "import cv2\n",
    "import numpy as np"
   ]
  },
  {
   "cell_type": "code",
   "execution_count": 2,
   "metadata": {},
   "outputs": [],
   "source": [
    "# Video Capture\n",
    "cap = cv2.VideoCapture('Video/face_track.mp4')"
   ]
  },
  {
   "cell_type": "code",
   "execution_count": 3,
   "metadata": {},
   "outputs": [],
   "source": [
    "# Read the capture and get the first frame\n",
    "ret, frame = cap.read()"
   ]
  },
  {
   "cell_type": "code",
   "execution_count": 4,
   "metadata": {},
   "outputs": [],
   "source": [
    "# Set up the initial tracking window\n",
    "face_casc = cv2.CascadeClassifier('Haarcascades/haarcascade_frontalface_default.xml')\n",
    "face_rects = face_casc.detectMultiScale(frame)"
   ]
  },
  {
   "cell_type": "code",
   "execution_count": 5,
   "metadata": {},
   "outputs": [],
   "source": [
    "# Convert the list to a tuple\n",
    "face_x, face_y, w,h = tuple(face_rects[0])\n",
    "track_window = (face_x, face_y, w, h)"
   ]
  },
  {
   "cell_type": "code",
   "execution_count": 6,
   "metadata": {},
   "outputs": [],
   "source": [
    "# set up the ROI for tracking\n",
    "roi = frame[face_y: face_y+h,\n",
    "           face_x: face_x+w]"
   ]
  },
  {
   "cell_type": "code",
   "execution_count": 7,
   "metadata": {},
   "outputs": [],
   "source": [
    "# HSV color maping\n",
    "hsv_roi = cv2.cvtColor(roi, cv2.COLOR_BGR2HSV)"
   ]
  },
  {
   "cell_type": "code",
   "execution_count": 8,
   "metadata": {},
   "outputs": [],
   "source": [
    "# Histogram to target on each frame for the meanshift calculation\n",
    "roi_hist = cv2.calcHist([hsv_roi], [0], None, [180], [0,180])"
   ]
  },
  {
   "cell_type": "code",
   "execution_count": 9,
   "metadata": {},
   "outputs": [],
   "source": [
    "### Normalize the histogram\n",
    "cv2.normalize(roi_hist, roi_hist, 0, 255, cv2.NORM_MINMAX);"
   ]
  },
  {
   "cell_type": "code",
   "execution_count": 10,
   "metadata": {},
   "outputs": [],
   "source": [
    "# Set the termination criteria\n",
    "#10 iterations or move 1 pt\n",
    "\n",
    "term_crit = (cv2.TERM_CRITERIA_EPS | cv2.TERM_CRITERIA_COUNT, 10, 1)"
   ]
  },
  {
   "cell_type": "code",
   "execution_count": 11,
   "metadata": {},
   "outputs": [],
   "source": [
    "# While loop\n",
    "while True:\n",
    "\n",
    "    # read capture\n",
    "    ret, frame = cap.read()\n",
    "    \n",
    "    # if statement\n",
    "    if ret == True:\n",
    "    \n",
    "        # Frame in HSV\n",
    "        hsv = cv2.cvtColor(frame, cv2.COLOR_BGR2HSV)\n",
    "        \n",
    "        # Calculate the base of ROI\n",
    "        dest = cv2.calcBackProject([hsv], [0], roi_hist, [0, 180], 1)\n",
    "        \n",
    "        # Camshift to get the new coordinates of rectangle\n",
    "        ret, track_window = cv2.CamShift(dest, track_window, term_crit)\n",
    "        \n",
    "        # Draw rectangle on image\n",
    "        pts = cv2.boxPoints(ret)\n",
    "        pts = np.int0(pts)\n",
    "        img2 = cv2.polylines(frame,\n",
    "                            [pts],\n",
    "                            True,\n",
    "                            (0, 255, 0),\n",
    "                             5)\n",
    "        \n",
    "        # Open new window and display\n",
    "        cv2.imshow('Cam Shift', img2)\n",
    "        \n",
    "        # Close window\n",
    "        if cv2.waitKey(300) & 0xFF == 27:\n",
    "            break\n",
    "\n",
    "    # else statement\n",
    "    else:\n",
    "        break\n",
    "    \n",
    "# Release and Destroy\n",
    "cap.release()\n",
    "cv2.destroyAllWindows()"
   ]
  }
 ],
 "metadata": {
  "kernelspec": {
   "display_name": "Python 3",
   "language": "python",
   "name": "python3"
  },
  "language_info": {
   "codemirror_mode": {
    "name": "ipython",
    "version": 3
   },
   "file_extension": ".py",
   "mimetype": "text/x-python",
   "name": "python",
   "nbconvert_exporter": "python",
   "pygments_lexer": "ipython3",
   "version": "3.7.4"
  }
 },
 "nbformat": 4,
 "nbformat_minor": 2
}
